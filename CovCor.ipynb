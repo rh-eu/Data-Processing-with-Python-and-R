{
 "cells": [
  {
   "cell_type": "markdown",
   "metadata": {},
   "source": [
    "# Covariance and Correlation"
   ]
  },
  {
   "cell_type": "code",
   "execution_count": 2,
   "metadata": {},
   "outputs": [],
   "source": [
    "import numpy as np\n",
    "import matplotlib.pyplot as plt\n",
    "import seaborn as sn"
   ]
  },
  {
   "cell_type": "code",
   "execution_count": 4,
   "metadata": {},
   "outputs": [],
   "source": [
    "def mean(x):\n",
    "    return sum(x) / len(x)"
   ]
  },
  {
   "cell_type": "code",
   "execution_count": 5,
   "metadata": {},
   "outputs": [],
   "source": [
    "def covariance(x, y):\n",
    "    x_mean = mean(x)\n",
    "    y_mean = mean(y)\n",
    "    data = [(x[i] - x_mean) * (y[i] - y_mean)\n",
    "            for i in range(len(x))]\n",
    "    return sum(data) / (len(data) - 1)"
   ]
  },
  {
   "cell_type": "code",
   "execution_count": 6,
   "metadata": {},
   "outputs": [
    {
     "name": "stdout",
     "output_type": "stream",
     "text": [
      "[[10.   6. ]\n",
      " [11.   4. ]\n",
      " [ 8.   5. ]\n",
      " [ 3.   3. ]\n",
      " [ 2.   2.8]\n",
      " [ 1.   1. ]]\n"
     ]
    }
   ],
   "source": [
    "M1 = [10., 6.]\n",
    "M2 = [11., 4.]\n",
    "M3 = [8., 5.]\n",
    "M4 = [3., 3.]\n",
    "M5 = [2., 2.8]\n",
    "M6 = [1., 1.]\n",
    "\n",
    "X = np.array([M1,\n",
    "             M2,\n",
    "             M3,\n",
    "             M4,\n",
    "             M5,\n",
    "             M6], dtype=float)\n",
    "print(X)"
   ]
  },
  {
   "cell_type": "code",
   "execution_count": 8,
   "metadata": {},
   "outputs": [
    {
     "name": "stdout",
     "output_type": "stream",
     "text": [
      "[10. 11.  8.  3.  2.  1.] , [6.  4.  5.  3.  2.8 1. ]\n",
      "\n",
      "6.486666666666666\n"
     ]
    }
   ],
   "source": [
    "x = X[:,0]\n",
    "y = X[:,1]\n",
    "print(x, ',', y)\n",
    "print()\n",
    "print(covariance(x, y))"
   ]
  },
  {
   "cell_type": "code",
   "execution_count": 9,
   "metadata": {},
   "outputs": [
    {
     "name": "stdout",
     "output_type": "stream",
     "text": [
      "[5.83333333 3.63333333]\n",
      "[18.96666667  3.12666667]\n",
      "[4.35507367 1.76823829]\n",
      "____\n"
     ]
    }
   ],
   "source": [
    "print(X.mean(axis=0))\n",
    "print(X.var(axis=0, ddof=1))\n",
    "print(X.std(axis=0, ddof=1))\n",
    "print(\"____\")"
   ]
  },
  {
   "cell_type": "markdown",
   "metadata": {},
   "source": [
    "$cov(x, y) = \\frac{1}{n-1}\\sum(x - \\bar{x})(y - \\bar{y})$"
   ]
  },
  {
   "cell_type": "code",
   "execution_count": 10,
   "metadata": {},
   "outputs": [
    {
     "name": "stdout",
     "output_type": "stream",
     "text": [
      "5.833333333333333 , 3.6333333333333333\n",
      "\n",
      "6.486666666666666\n"
     ]
    }
   ],
   "source": [
    "x_ = X[:,0].mean()\n",
    "y_ = X[:,1].mean()\n",
    "print(x_, ',', y_)\n",
    "print()\n",
    "c = 0\n",
    "for i in range(len(x)):\n",
    "    c += (x[i]-x_)*(y[i]-y_)\n",
    "    \n",
    "print(c/(len(x)-1))"
   ]
  },
  {
   "cell_type": "code",
   "execution_count": 11,
   "metadata": {},
   "outputs": [
    {
     "name": "stdout",
     "output_type": "stream",
     "text": [
      "[[18.96666667  6.48666667]\n",
      " [ 6.48666667  3.12666667]]\n",
      "\n",
      "6.486666666666666\n"
     ]
    }
   ],
   "source": [
    "# covariance calculated with numpy\n",
    "covariance_matrix = np.cov(X, y=None, rowvar=False, bias=False, ddof=None)\n",
    "print(covariance_matrix)\n",
    "print()\n",
    "print(covariance_matrix[0,1])"
   ]
  },
  {
   "cell_type": "code",
   "execution_count": 19,
   "metadata": {},
   "outputs": [
    {
     "data": {
      "image/png": "[encoded data removed]",
      "text/plain": [
       "<Figure size 432x288 with 2 Axes>"
      ]
     },
     "metadata": {
      "needs_background": "light"
     },
     "output_type": "display_data"
    }
   ],
   "source": [
    "# visual representation of the covariance\n",
    "sn.heatmap(covariance_matrix, annot=True, fmt='g')\n",
    "plt.show()"
   ]
  },
  {
   "cell_type": "markdown",
   "metadata": {},
   "source": [
    "### Computing the eigenvalues and eigenvectors\n",
    "\n",
    "Covariance: $\\sigma_{jk} = \\frac{1}{n-1}\\sum_{i=1}^{N}(x_{ij}-\\bar{x_j})(x_{ik}-\\bar{x_k})$\n",
    "\n",
    "Coviance matrix: $Σ = \\frac{1}{n-1}((X-\\bar{x})^T(X-\\bar{x}))$"
   ]
  },
  {
   "cell_type": "code",
   "execution_count": 20,
   "metadata": {},
   "outputs": [
    {
     "name": "stdout",
     "output_type": "stream",
     "text": [
      "Eigenvector: \n",
      " [[ 0.94171069 -0.33642381]\n",
      " [ 0.33642381  0.94171069]] \n",
      "\n",
      "Eigenvalues: \n",
      " [21.28401224  0.80932109] \n",
      "\n"
     ]
    }
   ],
   "source": [
    "# Eigendecomposition of the covariance\n",
    "eigen_values, eigen_vectors = np.linalg.eig(covariance_matrix)\n",
    "print(\"Eigenvector: \\n\", eigen_vectors, \"\\n\")\n",
    "print(\"Eigenvalues: \\n\", eigen_values, \"\\n\")"
   ]
  },
  {
   "cell_type": "markdown",
   "metadata": {},
   "source": [
    "Subtracting the mean $B = X - \\bar{X}$"
   ]
  },
  {
   "cell_type": "code",
   "execution_count": 21,
   "metadata": {},
   "outputs": [
    {
     "name": "stdout",
     "output_type": "stream",
     "text": [
      "[[5.83333333 3.63333333]]\n",
      "\n",
      "[[ 4.16666667  2.36666667]\n",
      " [ 5.16666667  0.36666667]\n",
      " [ 2.16666667  1.36666667]\n",
      " [-2.83333333 -0.63333333]\n",
      " [-3.83333333 -0.83333333]\n",
      " [-4.83333333 -2.63333333]]\n",
      "\n",
      "[[94.83333333 32.43333333]\n",
      " [32.43333333 15.63333333]]\n"
     ]
    }
   ],
   "source": [
    "x_ = np.array([[X[:,0].mean()],\n",
    "             [X[:,1].mean()]]).T\n",
    "print(x_)\n",
    "print()\n",
    "X_ = np.ones(X.shape[0]).reshape(X.shape[0],1) @ x_\n",
    "B = X - X_\n",
    "print(B)\n",
    "print()\n",
    "C = B.T @ B # covariance matrix of rows of B\n",
    "print(C)"
   ]
  },
  {
   "cell_type": "code",
   "execution_count": 22,
   "metadata": {},
   "outputs": [
    {
     "name": "stdout",
     "output_type": "stream",
     "text": [
      "Eigenvector: \n",
      " [[ 0.94171069 -0.33642381]\n",
      " [ 0.33642381  0.94171069]] \n",
      "\n",
      "Eigenvalues: \n",
      " [21.28401224  0.80932109] \n",
      "\n"
     ]
    }
   ],
   "source": [
    "eigen_values, eigen_vectors = np.linalg.eig(C)\n",
    "print(\"Eigenvector: \\n\", eigen_vectors, \"\\n\")\n",
    "print(\"Eigenvalues: \\n\", eigen_values / (len(X)-1), \"\\n\")"
   ]
  },
  {
   "cell_type": "markdown",
   "metadata": {},
   "source": [
    "$correlation(x, y) = \\frac{covariance(x,y)}{\\sigma_x \\sigma_y}$"
   ]
  },
  {
   "cell_type": "code",
   "execution_count": 23,
   "metadata": {},
   "outputs": [
    {
     "name": "stdout",
     "output_type": "stream",
     "text": [
      "6.486666666666666\n",
      "4.355073669487885 , 1.768238294649979\n",
      "\n",
      "0.8423358476555067\n"
     ]
    }
   ],
   "source": [
    "print(covariance_matrix[0,1])\n",
    "print(np.std(X[:,0], ddof=1), ',', np.std(X[:,1], ddof=1))\n",
    "print()\n",
    "\n",
    "correlation = covariance_matrix[0,1] / (np.std(X[:,0], ddof=1)*np.std(X[:,1], ddof=1))\n",
    "print(correlation)"
   ]
  },
  {
   "cell_type": "code",
   "execution_count": 24,
   "metadata": {},
   "outputs": [
    {
     "name": "stdout",
     "output_type": "stream",
     "text": [
      "[[1.         0.84233585]\n",
      " [0.84233585 1.        ]]\n",
      "\n",
      "0.8423358476555066\n"
     ]
    }
   ],
   "source": [
    "# Computing directly with numpy for Matrix X ... \n",
    "correlation_matrix = np.corrcoef(X, y=None, rowvar=False)\n",
    "print(correlation_matrix)\n",
    "print()\n",
    "print(correlation_matrix[0,1])"
   ]
  },
  {
   "cell_type": "code",
   "execution_count": 25,
   "metadata": {},
   "outputs": [
    {
     "name": "stdout",
     "output_type": "stream",
     "text": [
      "[[1.         0.84233585]\n",
      " [0.84233585 1.        ]]\n",
      "\n",
      "0.8423358476555066\n"
     ]
    }
   ],
   "source": [
    "# ... or for Matrix B\n",
    "correlation_matrix = np.corrcoef(B, y=None, rowvar=False)\n",
    "print(correlation_matrix)\n",
    "print()\n",
    "print(correlation_matrix[0,1])"
   ]
  },
  {
   "cell_type": "code",
   "execution_count": null,
   "metadata": {},
   "outputs": [],
   "source": []
  }
 ],
 "metadata": {
  "kernelspec": {
   "display_name": "Python 3",
   "language": "python",
   "name": "python3"
  },
  "language_info": {
   "codemirror_mode": {
    "name": "ipython",
    "version": 3
   },
   "file_extension": ".py",
   "mimetype": "text/x-python",
   "name": "python",
   "nbconvert_exporter": "python",
   "pygments_lexer": "ipython3",
   "version": "3.8.6"
  }
 },
 "nbformat": 4,
 "nbformat_minor": 4
}
