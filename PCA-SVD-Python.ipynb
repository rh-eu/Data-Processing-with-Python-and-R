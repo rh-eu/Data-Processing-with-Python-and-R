{
 "cells": [
  {
   "cell_type": "code",
   "execution_count": 66,
   "metadata": {},
   "outputs": [],
   "source": [
    "import numpy as np\n",
    "from sklearn import preprocessing\n",
    "from sklearn.decomposition import PCA\n",
    "import matplotlib.pyplot as plt\n",
    "%matplotlib inline"
   ]
  },
  {
   "cell_type": "code",
   "execution_count": 67,
   "metadata": {},
   "outputs": [
    {
     "name": "stdout",
     "output_type": "stream",
     "text": [
      "[[10.   6. ]\n",
      " [11.   4. ]\n",
      " [ 8.   5. ]\n",
      " [ 3.   3. ]\n",
      " [ 2.   2.8]\n",
      " [ 1.   1. ]]\n"
     ]
    }
   ],
   "source": [
    "M1 = [10., 6.]\n",
    "M2 = [11., 4.]\n",
    "M3 = [8., 5.]\n",
    "M4 = [3., 3.]\n",
    "M5 = [2., 2.8]\n",
    "M6 = [1., 1.]\n",
    "\n",
    "X = np.array([M1,\n",
    "             M2,\n",
    "             M3,\n",
    "             M4,\n",
    "             M5,\n",
    "             M6], dtype=float)\n",
    "print(X)"
   ]
  },
  {
   "cell_type": "code",
   "execution_count": 68,
   "metadata": {},
   "outputs": [
    {
     "name": "stdout",
     "output_type": "stream",
     "text": [
      "[5.83333333 3.63333333]\n",
      "[18.96666667  3.12666667]\n",
      "[4.35507367 1.76823829]\n"
     ]
    }
   ],
   "source": [
    "print(X.mean(axis=0))\n",
    "print(X.var(axis=0, ddof=1))\n",
    "print(X.std(axis=0, ddof=1))"
   ]
  },
  {
   "cell_type": "code",
   "execution_count": 69,
   "metadata": {},
   "outputs": [
    {
     "name": "stdout",
     "output_type": "stream",
     "text": [
      "[[ 4.16666667  2.36666667]\n",
      " [ 5.16666667  0.36666667]\n",
      " [ 2.16666667  1.36666667]\n",
      " [-2.83333333 -0.63333333]\n",
      " [-3.83333333 -0.83333333]\n",
      " [-4.83333333 -2.63333333]]\n",
      "\n",
      "[ 2.96059473e-16 -7.40148683e-17]\n",
      "[18.96666667  3.12666667]\n",
      "[4.35507367 1.76823829]\n"
     ]
    }
   ],
   "source": [
    "x_ = np.array([[X[:,0].mean()],\n",
    "             [X[:,1].mean()]]).T\n",
    "X_ = np.ones(X.shape[0]).reshape(X.shape[0],1) @ x_\n",
    "B = X - X_\n",
    "print(B)\n",
    "print()\n",
    "print(B.mean(axis=0))\n",
    "print(B.var(axis=0, ddof=1))\n",
    "print(B.std(axis=0, ddof=1))"
   ]
  },
  {
   "cell_type": "code",
   "execution_count": 70,
   "metadata": {},
   "outputs": [
    {
     "name": "stdout",
     "output_type": "stream",
     "text": [
      "[[ 1.04805452  1.46617876]\n",
      " [ 1.29958761  0.22715446]\n",
      " [ 0.54498835  0.84666661]\n",
      " [-0.71267707 -0.3923577 ]\n",
      " [-0.96421016 -0.51626013]\n",
      " [-1.21574324 -1.63138201]]\n",
      "\n",
      "[0.00000000e+00 7.40148683e-17]\n",
      "[1.2 1.2]\n",
      "[1.09544512 1.09544512]\n"
     ]
    }
   ],
   "source": [
    "D = preprocessing.scale(X, with_mean=True, with_std=True)\n",
    "print(D)\n",
    "print()\n",
    "print(D.mean(axis=0))\n",
    "print(D.var(axis=0, ddof=1))\n",
    "print(D.std(axis=0, ddof=1))"
   ]
  },
  {
   "cell_type": "code",
   "execution_count": 71,
   "metadata": {},
   "outputs": [
    {
     "name": "stdout",
     "output_type": "stream",
     "text": [
      "[[ 0.9567385   1.33843197]\n",
      " [ 1.18635574  0.2073627 ]\n",
      " [ 0.49750402  0.77289734]\n",
      " [-0.65058218 -0.35817194]\n",
      " [-0.88019942 -0.47127886]\n",
      " [-1.10981666 -1.48924121]]\n",
      "\n",
      "[0. 0.]\n",
      "[1. 1.]\n",
      "[1. 1.]\n"
     ]
    }
   ],
   "source": [
    "E1 = B[:,0]/np.sqrt(np.var(X[:,0], ddof=1))\n",
    "E2 = B[:,1]/np.sqrt(np.var(X[:,1], ddof=1))\n",
    "E = np.array([E1, E2]).T\n",
    "print(E)\n",
    "print()\n",
    "print(E.mean(axis=0))\n",
    "print(E.var(axis=0, ddof=1))\n",
    "print(E.std(axis=0, ddof=1))"
   ]
  },
  {
   "cell_type": "code",
   "execution_count": 72,
   "metadata": {},
   "outputs": [
    {
     "data": {
      "text/plain": [
       "<matplotlib.collections.PathCollection at 0x7fefb18a88e0>"
      ]
     },
     "execution_count": 72,
     "metadata": {},
     "output_type": "execute_result"
    },
    {
     "data": {
      "image/png": "[encoded data removed]",
      "text/plain": [
       "<Figure size 432x288 with 1 Axes>"
      ]
     },
     "metadata": {
      "needs_background": "light"
     },
     "output_type": "display_data"
    }
   ],
   "source": [
    "plt.scatter(X[:,0], X[:,1])"
   ]
  },
  {
   "cell_type": "code",
   "execution_count": 73,
   "metadata": {},
   "outputs": [
    {
     "data": {
      "text/plain": [
       "<matplotlib.collections.PathCollection at 0x7fefb187e400>"
      ]
     },
     "execution_count": 73,
     "metadata": {},
     "output_type": "execute_result"
    },
    {
     "data": {
      "image/png": "[encoded data removed]",
      "text/plain": [
       "<Figure size 432x288 with 1 Axes>"
      ]
     },
     "metadata": {
      "needs_background": "light"
     },
     "output_type": "display_data"
    }
   ],
   "source": [
    "plt.scatter(B[:,0], D[:,1])"
   ]
  },
  {
   "cell_type": "code",
   "execution_count": 74,
   "metadata": {},
   "outputs": [
    {
     "name": "stdout",
     "output_type": "stream",
     "text": [
      "[[0.77367173 0.        ]\n",
      " [0.         0.22632827]]\n",
      "\n",
      "[[-0.70710678 -0.70710678]\n",
      " [-0.70710678  0.70710678]]\n"
     ]
    }
   ],
   "source": [
    "u, s, v = np.linalg.svd(D, full_matrices=False)\n",
    "print(np.diag(s) / np.sum(s))\n",
    "print()\n",
    "print(v)"
   ]
  },
  {
   "cell_type": "code",
   "execution_count": 75,
   "metadata": {},
   "outputs": [
    {
     "name": "stdout",
     "output_type": "stream",
     "text": [
      "[[-4.6197643  -1.27279221]\n",
      " [-3.91265752 -3.39411255]\n",
      " [-2.49844396 -0.56568542]\n",
      " [ 2.45130351  1.55563492]\n",
      " [ 3.29983165  2.12132034]\n",
      " [ 5.27973063  1.55563492]]\n"
     ]
    }
   ],
   "source": [
    "T = B @ v\n",
    "print(T)"
   ]
  },
  {
   "cell_type": "code",
   "execution_count": 76,
   "metadata": {},
   "outputs": [
    {
     "name": "stdout",
     "output_type": "stream",
     "text": [
      "[[5.         4.21167924]\n",
      " [4.21167924 5.        ]]\n",
      "--\n",
      "[0.78832076 9.21167924]\n",
      "\n",
      "[[-0.70710678 -0.70710678]\n",
      " [ 0.70710678 -0.70710678]]\n"
     ]
    }
   ],
   "source": [
    "C = E.T @ E\n",
    "print(C)\n",
    "print(\"--\")\n",
    "eigen_vals, eigen_vecs = np.linalg.eig(C)\n",
    "print(eigen_vals)\n",
    "print()\n",
    "print(eigen_vecs)"
   ]
  },
  {
   "cell_type": "code",
   "execution_count": 77,
   "metadata": {},
   "outputs": [
    {
     "name": "stdout",
     "output_type": "stream",
     "text": [
      "[7.88320761722467, 92.11679238277533]\n"
     ]
    }
   ],
   "source": [
    "# Calculate the variance explained on each of those components\n",
    "\n",
    "variance_explained = [(i/sum(eigen_vals))*100 for i in eigen_vals]\n",
    "print(variance_explained)"
   ]
  },
  {
   "cell_type": "code",
   "execution_count": 78,
   "metadata": {},
   "outputs": [
    {
     "name": "stdout",
     "output_type": "stream",
     "text": [
      "[[-1.77783141 -0.29565849]\n",
      " [-1.07956967  0.75832475]\n",
      " [-0.98404866 -0.21331874]\n",
      " [ 0.78137758 -0.2265    ]\n",
      " [ 1.04685058 -0.3167485 ]\n",
      " [ 2.01322157  0.29390099]]\n"
     ]
    }
   ],
   "source": [
    "pca = PCA() # create a PCA object\n",
    "pca.fit(D) # do the math\n",
    "pca_data = pca.transform(D) # get PCA coordinates for scaled_data\n",
    "print(pca_data)"
   ]
  },
  {
   "cell_type": "code",
   "execution_count": 79,
   "metadata": {},
   "outputs": [
    {
     "name": "stdout",
     "output_type": "stream",
     "text": [
      "2\n",
      "\n",
      "[[-0.70710678 -0.70710678]\n",
      " [ 0.70710678 -0.70710678]]\n",
      "\n",
      "[3.3247579  0.97261756]\n",
      "\n",
      "[2.21080302 0.18919698]\n",
      "\n",
      "[92.11679238  7.88320762]\n"
     ]
    }
   ],
   "source": [
    "print(pca.n_components_)\n",
    "print()\n",
    "print(pca.components_)\n",
    "print()\n",
    "print(pca.singular_values_)\n",
    "print()\n",
    "print(pca.explained_variance_)\n",
    "print()\n",
    "print(pca.explained_variance_ratio_* 100)"
   ]
  },
  {
   "cell_type": "code",
   "execution_count": null,
   "metadata": {},
   "outputs": [],
   "source": []
  }
 ],
 "metadata": {
  "kernelspec": {
   "display_name": "Python 3",
   "language": "python",
   "name": "python3"
  },
  "language_info": {
   "codemirror_mode": {
    "name": "ipython",
    "version": 3
   },
   "file_extension": ".py",
   "mimetype": "text/x-python",
   "name": "python",
   "nbconvert_exporter": "python",
   "pygments_lexer": "ipython3",
   "version": "3.8.6"
  }
 },
 "nbformat": 4,
 "nbformat_minor": 4
}
