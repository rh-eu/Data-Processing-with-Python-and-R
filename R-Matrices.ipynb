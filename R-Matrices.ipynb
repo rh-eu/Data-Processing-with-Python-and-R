{
 "cells": [
  {
   "cell_type": "markdown",
   "metadata": {},
   "source": [
    "# Matrices in R"
   ]
  },
  {
   "cell_type": "code",
   "execution_count": 1,
   "metadata": {},
   "outputs": [
    {
     "name": "stdout",
     "output_type": "stream",
     "text": [
      "     [,1] [,2]\n",
      "[1,]   10  6.0\n",
      "[2,]   11  4.0\n",
      "[3,]    8  5.0\n",
      "[4,]    3  3.0\n",
      "[5,]    2  2.8\n",
      "[6,]    1  1.0\n"
     ]
    }
   ],
   "source": [
    "X = matrix(\n",
    "    c(10, 6, 11, 4, 8, 5, 3, 3, 2, 2.8, 1, 1),\n",
    "    nrow=6,\n",
    "    ncol=2,\n",
    "    byrow=TRUE)\n",
    "\n",
    "print(X)"
   ]
  },
  {
   "cell_type": "code",
   "execution_count": 2,
   "metadata": {},
   "outputs": [
    {
     "name": "stdout",
     "output_type": "stream",
     "text": [
      "[1] \"PCA variance\"\n",
      "[1] 92.116792  7.883208\n",
      "[1] 92.1  7.9\n"
     ]
    }
   ],
   "source": [
    "pca <- prcomp(X, scale=TRUE) \n",
    "\n",
    "## make a scree plot\n",
    "pca.var <- pca$sdev^2\n",
    "pca.var.per <- round(pca.var/sum(pca.var)*100, 1)\n",
    "\n",
    "print(\"PCA variance\")\n",
    "print(pca.var/sum(pca.var)*100)\n",
    "print(pca.var.per)"
   ]
  },
  {
   "cell_type": "code",
   "execution_count": 3,
   "metadata": {},
   "outputs": [
    {
     "name": "stdout",
     "output_type": "stream",
     "text": [
      "  M1 M2 M3 M4  M5 M6\n",
      "1 10 11  8  3 2.0  1\n",
      "2  6  4  5  3 2.8  1\n"
     ]
    }
   ],
   "source": [
    "X <- data.frame(\n",
    "   M1 = c(10, 6), \n",
    "   M2 = c(11, 4), \n",
    "   M3 = c(8, 5),\n",
    "   M4 = c(3, 3),\n",
    "   M5 = c(2, 2.8),\n",
    "   M6 = c(1, 1)\n",
    ")\n",
    "\n",
    "print(X)"
   ]
  },
  {
   "cell_type": "code",
   "execution_count": 4,
   "metadata": {},
   "outputs": [
    {
     "name": "stdout",
     "output_type": "stream",
     "text": [
      "[1] \"PCA variance\"\n",
      "[1] 92.116792  7.883208\n",
      "[1] 92.1  7.9\n"
     ]
    }
   ],
   "source": [
    "pca <- prcomp(t(X), scale=TRUE) \n",
    "\n",
    "## make a scree plot\n",
    "pca.var <- pca$sdev^2\n",
    "pca.var.per <- round(pca.var/sum(pca.var)*100, 1)\n",
    "\n",
    "print(\"PCA variance\")\n",
    "print(pca.var/sum(pca.var)*100)\n",
    "print(pca.var.per)"
   ]
  },
  {
   "cell_type": "code",
   "execution_count": 5,
   "metadata": {},
   "outputs": [
    {
     "name": "stdout",
     "output_type": "stream",
     "text": [
      "  M1 M2 M3  M4  M5 M6\n",
      "1 10 11  8 3.0 2.0  1\n",
      "2  6  4  5 3.0 2.8  1\n",
      "3 12  9 10 2.5 1.3  2\n"
     ]
    }
   ],
   "source": [
    "X <- data.frame(\n",
    "   M1 = c(10, 6, 12), \n",
    "   M2 = c(11, 4, 9), \n",
    "   M3 = c(8, 5, 10),\n",
    "   M4 = c(3, 3, 2.5),\n",
    "   M5 = c(2, 2.8, 1.3),\n",
    "   M6 = c(1, 1, 2)\n",
    ")\n",
    "\n",
    "print(X)"
   ]
  },
  {
   "cell_type": "code",
   "execution_count": 6,
   "metadata": {},
   "outputs": [
    {
     "name": "stdout",
     "output_type": "stream",
     "text": [
      "[1] \"PCA variance\"\n",
      "[1] 92.884366  5.425422  1.690212\n",
      "[1] 92.9  5.4  1.7\n"
     ]
    }
   ],
   "source": [
    "pca <- prcomp(t(X), scale=TRUE) \n",
    "\n",
    "## make a scree plot\n",
    "pca.var <- pca$sdev^2\n",
    "pca.var.per <- round(pca.var/sum(pca.var)*100, 1)\n",
    "\n",
    "print(\"PCA variance\")\n",
    "print(pca.var/sum(pca.var)*100)\n",
    "print(pca.var.per)"
   ]
  },
  {
   "cell_type": "code",
   "execution_count": 7,
   "metadata": {},
   "outputs": [
    {
     "name": "stdout",
     "output_type": "stream",
     "text": [
      "  M1 M2 M3  M4   M5 M6\n",
      "1 10 11  8 3.0  2.0  1\n",
      "2  6  4  5 3.0  2.8  1\n",
      "3 12  9 10 2.5  1.3  2\n",
      "4  5 20  6 2.0 18.0 19\n"
     ]
    }
   ],
   "source": [
    "X <- data.frame(\n",
    "   M1 = c(10, 6, 12, 5), \n",
    "   M2 = c(11, 4, 9, 20), \n",
    "   M3 = c(8, 5, 10, 6),\n",
    "   M4 = c(3, 3, 2.5, 2),\n",
    "   M5 = c(2, 2.8, 1.3, 18),\n",
    "   M6 = c(1, 1, 2, 19)\n",
    ")\n",
    "\n",
    "print(X)"
   ]
  },
  {
   "cell_type": "code",
   "execution_count": 8,
   "metadata": {},
   "outputs": [
    {
     "name": "stdout",
     "output_type": "stream",
     "text": [
      "[1] \"PCA variance\"\n",
      "[1] 74.194757 22.748048  1.899005  1.158189\n",
      "[1] 74.2 22.7  1.9  1.2\n"
     ]
    }
   ],
   "source": [
    "pca <- prcomp(t(X), scale=TRUE) \n",
    "\n",
    "## make a scree plot\n",
    "pca.var <- pca$sdev^2\n",
    "pca.var.per <- round(pca.var/sum(pca.var)*100, 1)\n",
    "\n",
    "print(\"PCA variance\")\n",
    "print(pca.var/sum(pca.var)*100)\n",
    "print(pca.var.per)"
   ]
  },
  {
   "cell_type": "code",
   "execution_count": null,
   "metadata": {},
   "outputs": [],
   "source": []
  }
 ],
 "metadata": {
  "kernelspec": {
   "display_name": "R",
   "language": "R",
   "name": "ir"
  },
  "language_info": {
   "codemirror_mode": "r",
   "file_extension": ".r",
   "mimetype": "text/x-r-source",
   "name": "R",
   "pygments_lexer": "r",
   "version": "4.0.3"
  }
 },
 "nbformat": 4,
 "nbformat_minor": 4
}
